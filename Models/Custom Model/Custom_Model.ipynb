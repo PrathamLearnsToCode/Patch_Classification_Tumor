{
  "nbformat": 4,
  "nbformat_minor": 0,
  "metadata": {
    "colab": {
      "provenance": []
    },
    "kernelspec": {
      "name": "python3",
      "display_name": "Python 3"
    },
    "language_info": {
      "name": "python"
    }
  },
  "cells": [
    {
      "cell_type": "code",
      "execution_count": null,
      "metadata": {
        "id": "BGXQSptnoGKV"
      },
      "outputs": [],
      "source": [
        "TRAIN_DIR = '/content/drive/MyDrive/COL828_Assignment_1/Final Train Directory'\n",
        "VAL_DIR = '/content/drive/MyDrive/COL828_Assignment_1/Final Validation directory'\n",
        "\n",
        "train_datagen = ImageDataGenerator(width_shift_range=0.1,\n",
        "    height_shift_range=0.1,\n",
        "    horizontal_flip=True,\n",
        "    vertical_flip=True,\n",
        "    preprocessing_function=None\n",
        ")\n",
        "\n",
        "test_datagen = ImageDataGenerator(\n",
        "    preprocessing_function=None\n",
        ")\n",
        "\n",
        "\n",
        "train_generator = train_datagen.flow_from_directory(\n",
        "    TRAIN_DIR,\n",
        "    color_mode='rgb',\n",
        "    target_size=(256,256),\n",
        "    batch_size=64,\n",
        "    class_mode='binary'\n",
        ")\n",
        "\n",
        "\n",
        "validation_generator = test_datagen.flow_from_directory(\n",
        "    VAL_DIR,\n",
        "    color_mode='rgb',\n",
        "    target_size=(256,256),\n",
        "    batch_size=32,\n",
        "    class_mode='binary'\n",
        ")"
      ]
    },
    {
      "cell_type": "code",
      "source": [
        "model=Sequential()\n",
        "model.add(Conv2D(filters=8,kernel_size=(3,3),padding=\"Same\",activation=\"relu\",input_shape=(256,256,3)))\n",
        "model.add(MaxPool2D(pool_size=(2,2)))\n",
        "model.add(Dropout(0.35))\n",
        "\n",
        "model.add(Conv2D(filters=16,kernel_size=(3,3),padding=\"Same\",activation=\"relu\"))\n",
        "model.add(MaxPool2D(pool_size=(2,2),strides=(2,2)))\n",
        "model.add(Dropout(0.35))\n",
        "\n",
        "model.add(Conv2D(filters=32,kernel_size=(3,3),padding=\"Same\",activation=\"relu\"))\n",
        "model.add(MaxPool2D(pool_size=(2,2),strides=(2,2)))\n",
        "model.add(Dropout(0.35))\n",
        "\n",
        "model.add(Flatten())\n",
        "model.add(Dense(512,activation=\"relu\"))\n",
        "model.add(Dropout(0.5))\n",
        "model.add(Dense(256,activation=\"relu\"))\n",
        "model.add(Dropout(0.5))\n",
        "model.add(Dense(16,activation=\"relu\"))\n",
        "model.add(Dropout(0.35))\n",
        "model.add(Dense(1,activation=\"sigmoid\"))\n",
        "\n",
        "optimizer= Adam(lr=0.001,beta_1=0.9,beta_2=0.999)\n",
        "\n",
        "model.compile(optimizer=optimizer,loss=\"binary_crossentropy\",metrics=[\"accuracy\"])\n",
        "history = model.fit(train_generator,validation_data = validation_generator, verbose = 1, epochs= 20)\n",
        "model.save('Custom_Model.h5')"
      ],
      "metadata": {
        "id": "dydtbe1coSnR"
      },
      "execution_count": null,
      "outputs": []
    },
    {
      "cell_type": "code",
      "source": [
        "# plot model performance\n",
        "acc = history.history['accuracy']\n",
        "val_acc = history.history['val_accuracy']\n",
        "loss = history.history['loss']\n",
        "val_loss = history.history['val_loss']\n",
        "epochs_range = range(1, len(history.epoch) + 1)\n",
        "\n",
        "plt.figure(figsize=(15,5))\n",
        "\n",
        "plt.subplot(1, 2, 1)\n",
        "plt.plot(epochs_range, acc, label='Train Set')\n",
        "plt.plot(epochs_range, val_acc, label='Val Set')\n",
        "plt.legend(loc=\"best\")\n",
        "plt.xlabel('Epochs')\n",
        "plt.ylabel('Accuracy')\n",
        "plt.title('Model Accuracy')\n",
        "\n",
        "plt.subplot(1, 2, 2)\n",
        "plt.plot(epochs_range, loss, label='Train Set')\n",
        "plt.plot(epochs_range, val_loss, label='Val Set')\n",
        "plt.legend(loc=\"best\")\n",
        "plt.xlabel('Epochs')\n",
        "plt.ylabel('Loss')\n",
        "plt.title('Model Loss')\n",
        "\n",
        "plt.tight_layout()\n",
        "plt.show()"
      ],
      "metadata": {
        "id": "M-C-r5lToWQE"
      },
      "execution_count": null,
      "outputs": []
    }
  ]
}