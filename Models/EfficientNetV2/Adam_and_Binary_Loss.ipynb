{
  "nbformat": 4,
  "nbformat_minor": 0,
  "metadata": {
    "colab": {
      "provenance": []
    },
    "kernelspec": {
      "name": "python3",
      "display_name": "Python 3"
    },
    "language_info": {
      "name": "python"
    }
  },
  "cells": [
    {
      "cell_type": "code",
      "execution_count": null,
      "metadata": {
        "id": "BGXQSptnoGKV"
      },
      "outputs": [],
      "source": [
        "TRAIN_DIR = '/content/drive/MyDrive/COL828_Assignment_1/Final Train Directory'\n",
        "VAL_DIR = '/content/drive/MyDrive/COL828_Assignment_1/Final Validation directory'\n",
        "\n",
        "train_datagen = ImageDataGenerator(\n",
        "    rotation_range = 0.1,\n",
        "    horizontal_flip=True,\n",
        "    vertical_flip=True,\n",
        "    preprocessing_function=None\n",
        ")\n",
        "\n",
        "test_datagen = ImageDataGenerator(\n",
        "    preprocessing_function=None\n",
        ")\n",
        "\n",
        "\n",
        "train_generator = train_datagen.flow_from_directory(\n",
        "    TRAIN_DIR,\n",
        "    color_mode='rgb',\n",
        "    target_size=(256,256),\n",
        "    batch_size=64,\n",
        "    class_mode='binary'\n",
        ")\n",
        "\n",
        "\n",
        "validation_generator = test_datagen.flow_from_directory(\n",
        "    VAL_DIR,\n",
        "    color_mode='rgb',\n",
        "    target_size=(256,256),\n",
        "    batch_size=16,\n",
        "    class_mode='binary'\n",
        ")"
      ]
    },
    {
      "cell_type": "code",
      "source": [
        "def exponential_decay(lr, s):\n",
        "    def exponential_decay_fn(epoch):\n",
        "        return lr * 0.1\n",
        "    return exponential_decay_fn\n",
        "\n",
        "exponential_decay_fn = exponential_decay(0.001, 5) # when i run it for 50 epochs\n",
        "\n",
        "lr_scheduler = tf.keras.callbacks.LearningRateScheduler(exponential_decay_fn)"
      ],
      "metadata": {
        "id": "e-K6sXWqoQAv"
      },
      "execution_count": null,
      "outputs": []
    },
    {
      "cell_type": "code",
      "source": [
        "efficientmodel = EfficientNetV2S(weights = \"imagenet\", include_top = False,\n",
        "                 input_tensor = Input(shape = (256,256,3)))\n",
        "outputs = efficientmodel.output\n",
        "outputs = Flatten(name = \"flatten\")(outputs)\n",
        "outputs = Dropout(0.2)(outputs)\n",
        "outputs = Dense(1, activation = \"sigmoid\")(outputs)\n",
        "\n",
        "model = Model(inputs=efficientmodel.input, outputs=outputs)\n",
        "\n",
        "for layers in efficientmodel.layers:\n",
        "  layers.trainable = False\n",
        "\n",
        "model.compile(loss = 'binary_crossentropy', optimizer = 'Adam', metrics = [\"accuracy\"])\n",
        "model.summary()\n",
        "\n",
        "history=model.fit(train_generator,\n",
        "                        validation_data=validation_generator,\n",
        "                        epochs = 30,\n",
        "                        verbose = 1,\n",
        "                         callbacks=lr_scheduler, steps_per_epoch = 20,\n",
        "                         validation_steps = 5)\n",
        "model.save('EfficientNet1.h5')"
      ],
      "metadata": {
        "id": "dydtbe1coSnR"
      },
      "execution_count": null,
      "outputs": []
    },
    {
      "cell_type": "code",
      "source": [
        "# plot model performance\n",
        "acc = history.history['accuracy']\n",
        "val_acc = history.history['val_accuracy']\n",
        "loss = history.history['loss']\n",
        "val_loss = history.history['val_loss']\n",
        "epochs_range = range(1, len(history.epoch) + 1)\n",
        "\n",
        "plt.figure(figsize=(15,5))\n",
        "\n",
        "plt.subplot(1, 2, 1)\n",
        "plt.plot(epochs_range, acc, label='Train Set')\n",
        "plt.plot(epochs_range, val_acc, label='Val Set')\n",
        "plt.legend(loc=\"best\")\n",
        "plt.xlabel('Epochs')\n",
        "plt.ylabel('Accuracy')\n",
        "plt.title('Model Accuracy')\n",
        "\n",
        "plt.subplot(1, 2, 2)\n",
        "plt.plot(epochs_range, loss, label='Train Set')\n",
        "plt.plot(epochs_range, val_loss, label='Val Set')\n",
        "plt.legend(loc=\"best\")\n",
        "plt.xlabel('Epochs')\n",
        "plt.ylabel('Loss')\n",
        "plt.title('Model Loss')\n",
        "\n",
        "plt.tight_layout()\n",
        "plt.show()"
      ],
      "metadata": {
        "id": "M-C-r5lToWQE"
      },
      "execution_count": null,
      "outputs": []
    }
  ]
}